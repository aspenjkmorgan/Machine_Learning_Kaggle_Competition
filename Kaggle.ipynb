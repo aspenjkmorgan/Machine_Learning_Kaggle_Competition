{
 "cells": [
  {
   "cell_type": "markdown",
   "id": "22629e70-079f-4fb7-8695-9ccd8b0e25b6",
   "metadata": {},
   "source": [
    "# Kaggle"
   ]
  },
  {
   "cell_type": "markdown",
   "id": "77687c4d-5012-4fbf-bbef-4ab50f0fb4e4",
   "metadata": {},
   "source": [
    "## First Look\n",
    "* 400 samples\n",
    "* Drop first five features for colinearity"
   ]
  },
  {
   "cell_type": "code",
   "execution_count": 1,
   "id": "b8037b56-e9a6-451a-a4e6-7f4d1ebc2c1d",
   "metadata": {
    "tags": []
   },
   "outputs": [],
   "source": [
    "import pandas as pd\n",
    "import matplotlib.pyplot as plt\n",
    "import numpy as np\n",
    "\n",
    "# preprocessing\n",
    "from sklearn.preprocessing import StandardScaler, PolynomialFeatures\n",
    "from sklearn.pipeline import Pipeline\n",
    "from sklearn.model_selection import GridSearchCV, train_test_split\n",
    "\n",
    "# metrics\n",
    "from sklearn.metrics import r2_score, mean_squared_error\n",
    "import statsmodels.api as sm\n",
    "from scipy import stats\n",
    "\n",
    "# models\n",
    "from sklearn.linear_model import LinearRegression, Ridge\n",
    "from sklearn.ensemble import RandomForestRegressor\n",
    "from sklearn.neighbors import KNeighborsRegressor\n",
    "from sklearn.svm import LinearSVR\n",
    "from sklearn.neural_network import MLPRegressor"
   ]
  },
  {
   "cell_type": "code",
   "execution_count": 2,
   "id": "b7db1861-ece5-4a42-b786-c212ece5c7f5",
   "metadata": {
    "tags": []
   },
   "outputs": [],
   "source": [
    "data = pd.read_csv('train.csv', index_col='id')"
   ]
  },
  {
   "cell_type": "code",
   "execution_count": 55,
   "id": "1d5dc568-6891-4de7-85cf-5183779ac271",
   "metadata": {
    "tags": []
   },
   "outputs": [],
   "source": [
    "X = data.drop(axis=1, columns=['target'])\n",
    "y = data[['target']]"
   ]
  },
  {
   "cell_type": "markdown",
   "id": "f97107b4-957a-4891-b188-fd9d487a0810",
   "metadata": {},
   "source": [
    "## Changes"
   ]
  },
  {
   "cell_type": "markdown",
   "id": "654939c4-6aa1-4084-8e85-db205ac49170",
   "metadata": {},
   "source": [
    "## Ridge model with f1, f3, f4, f5"
   ]
  },
  {
   "cell_type": "code",
   "execution_count": 56,
   "id": "1688bacf-11d7-42f1-8772-41546932fbbc",
   "metadata": {
    "tags": []
   },
   "outputs": [],
   "source": [
    "#X.drop(axis=1, columns=['f1', 'f2', 'f3', 'f4', 'f5', ], inplace=True)\n",
    "X = X[['f1', 'f3', 'f4', 'f5']]"
   ]
  },
  {
   "cell_type": "code",
   "execution_count": 89,
   "id": "6f13134d-1c2f-4488-827e-92a7ee7c9614",
   "metadata": {
    "tags": []
   },
   "outputs": [],
   "source": [
    "X_train, X_test, y_train, y_test = train_test_split(X, y, test_size=0.15)"
   ]
  },
  {
   "cell_type": "code",
   "execution_count": 90,
   "id": "617ce76b-0dab-45da-b573-a5b963c99ec7",
   "metadata": {
    "tags": []
   },
   "outputs": [
    {
     "data": {
      "text/html": [
       "<style>#sk-container-id-12 {color: black;}#sk-container-id-12 pre{padding: 0;}#sk-container-id-12 div.sk-toggleable {background-color: white;}#sk-container-id-12 label.sk-toggleable__label {cursor: pointer;display: block;width: 100%;margin-bottom: 0;padding: 0.3em;box-sizing: border-box;text-align: center;}#sk-container-id-12 label.sk-toggleable__label-arrow:before {content: \"▸\";float: left;margin-right: 0.25em;color: #696969;}#sk-container-id-12 label.sk-toggleable__label-arrow:hover:before {color: black;}#sk-container-id-12 div.sk-estimator:hover label.sk-toggleable__label-arrow:before {color: black;}#sk-container-id-12 div.sk-toggleable__content {max-height: 0;max-width: 0;overflow: hidden;text-align: left;background-color: #f0f8ff;}#sk-container-id-12 div.sk-toggleable__content pre {margin: 0.2em;color: black;border-radius: 0.25em;background-color: #f0f8ff;}#sk-container-id-12 input.sk-toggleable__control:checked~div.sk-toggleable__content {max-height: 200px;max-width: 100%;overflow: auto;}#sk-container-id-12 input.sk-toggleable__control:checked~label.sk-toggleable__label-arrow:before {content: \"▾\";}#sk-container-id-12 div.sk-estimator input.sk-toggleable__control:checked~label.sk-toggleable__label {background-color: #d4ebff;}#sk-container-id-12 div.sk-label input.sk-toggleable__control:checked~label.sk-toggleable__label {background-color: #d4ebff;}#sk-container-id-12 input.sk-hidden--visually {border: 0;clip: rect(1px 1px 1px 1px);clip: rect(1px, 1px, 1px, 1px);height: 1px;margin: -1px;overflow: hidden;padding: 0;position: absolute;width: 1px;}#sk-container-id-12 div.sk-estimator {font-family: monospace;background-color: #f0f8ff;border: 1px dotted black;border-radius: 0.25em;box-sizing: border-box;margin-bottom: 0.5em;}#sk-container-id-12 div.sk-estimator:hover {background-color: #d4ebff;}#sk-container-id-12 div.sk-parallel-item::after {content: \"\";width: 100%;border-bottom: 1px solid gray;flex-grow: 1;}#sk-container-id-12 div.sk-label:hover label.sk-toggleable__label {background-color: #d4ebff;}#sk-container-id-12 div.sk-serial::before {content: \"\";position: absolute;border-left: 1px solid gray;box-sizing: border-box;top: 0;bottom: 0;left: 50%;z-index: 0;}#sk-container-id-12 div.sk-serial {display: flex;flex-direction: column;align-items: center;background-color: white;padding-right: 0.2em;padding-left: 0.2em;position: relative;}#sk-container-id-12 div.sk-item {position: relative;z-index: 1;}#sk-container-id-12 div.sk-parallel {display: flex;align-items: stretch;justify-content: center;background-color: white;position: relative;}#sk-container-id-12 div.sk-item::before, #sk-container-id-12 div.sk-parallel-item::before {content: \"\";position: absolute;border-left: 1px solid gray;box-sizing: border-box;top: 0;bottom: 0;left: 50%;z-index: -1;}#sk-container-id-12 div.sk-parallel-item {display: flex;flex-direction: column;z-index: 1;position: relative;background-color: white;}#sk-container-id-12 div.sk-parallel-item:first-child::after {align-self: flex-end;width: 50%;}#sk-container-id-12 div.sk-parallel-item:last-child::after {align-self: flex-start;width: 50%;}#sk-container-id-12 div.sk-parallel-item:only-child::after {width: 0;}#sk-container-id-12 div.sk-dashed-wrapped {border: 1px dashed gray;margin: 0 0.4em 0.5em 0.4em;box-sizing: border-box;padding-bottom: 0.4em;background-color: white;}#sk-container-id-12 div.sk-label label {font-family: monospace;font-weight: bold;display: inline-block;line-height: 1.2em;}#sk-container-id-12 div.sk-label-container {text-align: center;}#sk-container-id-12 div.sk-container {/* jupyter's `normalize.less` sets `[hidden] { display: none; }` but bootstrap.min.css set `[hidden] { display: none !important; }` so we also need the `!important` here to be able to override the default hidden behavior on the sphinx rendered scikit-learn.org. See: https://github.com/scikit-learn/scikit-learn/issues/21755 */display: inline-block !important;position: relative;}#sk-container-id-12 div.sk-text-repr-fallback {display: none;}</style><div id=\"sk-container-id-12\" class=\"sk-top-container\"><div class=\"sk-text-repr-fallback\"><pre>GridSearchCV(cv=5,\n",
       "             estimator=Pipeline(steps=[(&#x27;scaling&#x27;, StandardScaler()),\n",
       "                                       (&#x27;poly_features&#x27;,\n",
       "                                        PolynomialFeatures(degree=3)),\n",
       "                                       (&#x27;reg&#x27;, Ridge())]),\n",
       "             param_grid={&#x27;reg__alpha&#x27;: [0.001, 0.01, 0.05, 0.1, 0.5, 1, 2, 3, 4,\n",
       "                                        5, 6, 7, 8, 9, 10]},\n",
       "             scoring=&#x27;neg_mean_squared_error&#x27;)</pre><b>In a Jupyter environment, please rerun this cell to show the HTML representation or trust the notebook. <br />On GitHub, the HTML representation is unable to render, please try loading this page with nbviewer.org.</b></div><div class=\"sk-container\" hidden><div class=\"sk-item sk-dashed-wrapped\"><div class=\"sk-label-container\"><div class=\"sk-label sk-toggleable\"><input class=\"sk-toggleable__control sk-hidden--visually\" id=\"sk-estimator-id-56\" type=\"checkbox\" ><label for=\"sk-estimator-id-56\" class=\"sk-toggleable__label sk-toggleable__label-arrow\">GridSearchCV</label><div class=\"sk-toggleable__content\"><pre>GridSearchCV(cv=5,\n",
       "             estimator=Pipeline(steps=[(&#x27;scaling&#x27;, StandardScaler()),\n",
       "                                       (&#x27;poly_features&#x27;,\n",
       "                                        PolynomialFeatures(degree=3)),\n",
       "                                       (&#x27;reg&#x27;, Ridge())]),\n",
       "             param_grid={&#x27;reg__alpha&#x27;: [0.001, 0.01, 0.05, 0.1, 0.5, 1, 2, 3, 4,\n",
       "                                        5, 6, 7, 8, 9, 10]},\n",
       "             scoring=&#x27;neg_mean_squared_error&#x27;)</pre></div></div></div><div class=\"sk-parallel\"><div class=\"sk-parallel-item\"><div class=\"sk-item\"><div class=\"sk-label-container\"><div class=\"sk-label sk-toggleable\"><input class=\"sk-toggleable__control sk-hidden--visually\" id=\"sk-estimator-id-57\" type=\"checkbox\" ><label for=\"sk-estimator-id-57\" class=\"sk-toggleable__label sk-toggleable__label-arrow\">estimator: Pipeline</label><div class=\"sk-toggleable__content\"><pre>Pipeline(steps=[(&#x27;scaling&#x27;, StandardScaler()),\n",
       "                (&#x27;poly_features&#x27;, PolynomialFeatures(degree=3)),\n",
       "                (&#x27;reg&#x27;, Ridge())])</pre></div></div></div><div class=\"sk-serial\"><div class=\"sk-item\"><div class=\"sk-serial\"><div class=\"sk-item\"><div class=\"sk-estimator sk-toggleable\"><input class=\"sk-toggleable__control sk-hidden--visually\" id=\"sk-estimator-id-58\" type=\"checkbox\" ><label for=\"sk-estimator-id-58\" class=\"sk-toggleable__label sk-toggleable__label-arrow\">StandardScaler</label><div class=\"sk-toggleable__content\"><pre>StandardScaler()</pre></div></div></div><div class=\"sk-item\"><div class=\"sk-estimator sk-toggleable\"><input class=\"sk-toggleable__control sk-hidden--visually\" id=\"sk-estimator-id-59\" type=\"checkbox\" ><label for=\"sk-estimator-id-59\" class=\"sk-toggleable__label sk-toggleable__label-arrow\">PolynomialFeatures</label><div class=\"sk-toggleable__content\"><pre>PolynomialFeatures(degree=3)</pre></div></div></div><div class=\"sk-item\"><div class=\"sk-estimator sk-toggleable\"><input class=\"sk-toggleable__control sk-hidden--visually\" id=\"sk-estimator-id-60\" type=\"checkbox\" ><label for=\"sk-estimator-id-60\" class=\"sk-toggleable__label sk-toggleable__label-arrow\">Ridge</label><div class=\"sk-toggleable__content\"><pre>Ridge()</pre></div></div></div></div></div></div></div></div></div></div></div></div>"
      ],
      "text/plain": [
       "GridSearchCV(cv=5,\n",
       "             estimator=Pipeline(steps=[('scaling', StandardScaler()),\n",
       "                                       ('poly_features',\n",
       "                                        PolynomialFeatures(degree=3)),\n",
       "                                       ('reg', Ridge())]),\n",
       "             param_grid={'reg__alpha': [0.001, 0.01, 0.05, 0.1, 0.5, 1, 2, 3, 4,\n",
       "                                        5, 6, 7, 8, 9, 10]},\n",
       "             scoring='neg_mean_squared_error')"
      ]
     },
     "execution_count": 90,
     "metadata": {},
     "output_type": "execute_result"
    }
   ],
   "source": [
    "# pipeline\n",
    "pipe = Pipeline(steps=[\n",
    "    ('scaling', StandardScaler()),\n",
    "    ('poly_features', PolynomialFeatures(degree=3)),\n",
    "    ('reg', Ridge())])\n",
    "\n",
    "# grid\n",
    "params = {'reg__alpha': [0.001, 0.01, 0.05, 0.1, 0.5, 1, 2, 3, 4, 5, 6, 7, 8, 9, 10]}\n",
    "grid = GridSearchCV(pipe,\n",
    "                    params,\n",
    "                    scoring='neg_mean_squared_error',\n",
    "                    cv = 5)\n",
    "grid.fit(X_train, y_train)"
   ]
  },
  {
   "cell_type": "code",
   "execution_count": 91,
   "id": "7a9a70b0-6bae-4dbe-a9cc-6e2ccfb9c24d",
   "metadata": {
    "tags": []
   },
   "outputs": [
    {
     "data": {
      "text/plain": [
       "{'reg__alpha': 2}"
      ]
     },
     "execution_count": 91,
     "metadata": {},
     "output_type": "execute_result"
    }
   ],
   "source": [
    "best_ridge = grid.best_estimator_\n",
    "grid.best_params_"
   ]
  },
  {
   "cell_type": "code",
   "execution_count": 92,
   "id": "c72316df-c851-48ef-a469-c50c1e4f2262",
   "metadata": {
    "tags": []
   },
   "outputs": [
    {
     "data": {
      "text/plain": [
       "1.228849767910492"
      ]
     },
     "execution_count": 92,
     "metadata": {},
     "output_type": "execute_result"
    }
   ],
   "source": [
    "y_test_pred = best_ridge.predict(X_test)\n",
    "np.sqrt(mean_squared_error(y_test, y_test_pred))"
   ]
  },
  {
   "cell_type": "code",
   "execution_count": 93,
   "id": "fcd9eb06-8bb8-4fc8-bd7c-a04064b4e94b",
   "metadata": {
    "tags": []
   },
   "outputs": [
    {
     "data": {
      "text/plain": [
       "1.1541055922539745"
      ]
     },
     "execution_count": 93,
     "metadata": {},
     "output_type": "execute_result"
    }
   ],
   "source": [
    "y_train_pred = best_ridge.predict(X_train)\n",
    "np.sqrt(mean_squared_error(y_train, y_train_pred))"
   ]
  },
  {
   "cell_type": "code",
   "execution_count": 94,
   "id": "bba1785e-5773-4d42-a32f-041112040845",
   "metadata": {
    "tags": []
   },
   "outputs": [
    {
     "data": {
      "text/html": [
       "<div>\n",
       "<style scoped>\n",
       "    .dataframe tbody tr th:only-of-type {\n",
       "        vertical-align: middle;\n",
       "    }\n",
       "\n",
       "    .dataframe tbody tr th {\n",
       "        vertical-align: top;\n",
       "    }\n",
       "\n",
       "    .dataframe thead th {\n",
       "        text-align: right;\n",
       "    }\n",
       "</style>\n",
       "<table border=\"1\" class=\"dataframe\">\n",
       "  <thead>\n",
       "    <tr style=\"text-align: right;\">\n",
       "      <th></th>\n",
       "      <th>f1</th>\n",
       "      <th>f3</th>\n",
       "      <th>f4</th>\n",
       "      <th>f5</th>\n",
       "      <th>target</th>\n",
       "    </tr>\n",
       "    <tr>\n",
       "      <th>id</th>\n",
       "      <th></th>\n",
       "      <th></th>\n",
       "      <th></th>\n",
       "      <th></th>\n",
       "      <th></th>\n",
       "    </tr>\n",
       "  </thead>\n",
       "  <tbody>\n",
       "    <tr>\n",
       "      <th>401</th>\n",
       "      <td>0.963814</td>\n",
       "      <td>-0.041354</td>\n",
       "      <td>-1.565599</td>\n",
       "      <td>1.737945</td>\n",
       "      <td>-34.736121</td>\n",
       "    </tr>\n",
       "    <tr>\n",
       "      <th>402</th>\n",
       "      <td>1.118852</td>\n",
       "      <td>0.311665</td>\n",
       "      <td>-1.129158</td>\n",
       "      <td>1.737983</td>\n",
       "      <td>-7.211435</td>\n",
       "    </tr>\n",
       "    <tr>\n",
       "      <th>403</th>\n",
       "      <td>1.063174</td>\n",
       "      <td>0.329134</td>\n",
       "      <td>0.857807</td>\n",
       "      <td>1.737917</td>\n",
       "      <td>-0.724986</td>\n",
       "    </tr>\n",
       "    <tr>\n",
       "      <th>404</th>\n",
       "      <td>1.176543</td>\n",
       "      <td>0.325012</td>\n",
       "      <td>-0.708241</td>\n",
       "      <td>1.737978</td>\n",
       "      <td>-4.438960</td>\n",
       "    </tr>\n",
       "    <tr>\n",
       "      <th>405</th>\n",
       "      <td>0.741057</td>\n",
       "      <td>0.503625</td>\n",
       "      <td>1.111256</td>\n",
       "      <td>1.737958</td>\n",
       "      <td>2.717496</td>\n",
       "    </tr>\n",
       "    <tr>\n",
       "      <th>...</th>\n",
       "      <td>...</td>\n",
       "      <td>...</td>\n",
       "      <td>...</td>\n",
       "      <td>...</td>\n",
       "      <td>...</td>\n",
       "    </tr>\n",
       "    <tr>\n",
       "      <th>1196</th>\n",
       "      <td>0.882169</td>\n",
       "      <td>0.421486</td>\n",
       "      <td>0.737417</td>\n",
       "      <td>1.737958</td>\n",
       "      <td>1.237348</td>\n",
       "    </tr>\n",
       "    <tr>\n",
       "      <th>1197</th>\n",
       "      <td>0.842735</td>\n",
       "      <td>0.391464</td>\n",
       "      <td>1.233258</td>\n",
       "      <td>1.737914</td>\n",
       "      <td>1.817717</td>\n",
       "    </tr>\n",
       "    <tr>\n",
       "      <th>1198</th>\n",
       "      <td>1.270291</td>\n",
       "      <td>0.778258</td>\n",
       "      <td>2.607416</td>\n",
       "      <td>1.737807</td>\n",
       "      <td>24.133697</td>\n",
       "    </tr>\n",
       "    <tr>\n",
       "      <th>1199</th>\n",
       "      <td>0.511655</td>\n",
       "      <td>0.397267</td>\n",
       "      <td>0.398529</td>\n",
       "      <td>1.737963</td>\n",
       "      <td>-3.018166</td>\n",
       "    </tr>\n",
       "    <tr>\n",
       "      <th>1200</th>\n",
       "      <td>1.183461</td>\n",
       "      <td>0.530598</td>\n",
       "      <td>-0.824698</td>\n",
       "      <td>1.737999</td>\n",
       "      <td>-2.925373</td>\n",
       "    </tr>\n",
       "  </tbody>\n",
       "</table>\n",
       "<p>800 rows × 5 columns</p>\n",
       "</div>"
      ],
      "text/plain": [
       "            f1        f3        f4        f5     target\n",
       "id                                                     \n",
       "401   0.963814 -0.041354 -1.565599  1.737945 -34.736121\n",
       "402   1.118852  0.311665 -1.129158  1.737983  -7.211435\n",
       "403   1.063174  0.329134  0.857807  1.737917  -0.724986\n",
       "404   1.176543  0.325012 -0.708241  1.737978  -4.438960\n",
       "405   0.741057  0.503625  1.111256  1.737958   2.717496\n",
       "...        ...       ...       ...       ...        ...\n",
       "1196  0.882169  0.421486  0.737417  1.737958   1.237348\n",
       "1197  0.842735  0.391464  1.233258  1.737914   1.817717\n",
       "1198  1.270291  0.778258  2.607416  1.737807  24.133697\n",
       "1199  0.511655  0.397267  0.398529  1.737963  -3.018166\n",
       "1200  1.183461  0.530598 -0.824698  1.737999  -2.925373\n",
       "\n",
       "[800 rows x 5 columns]"
      ]
     },
     "execution_count": 94,
     "metadata": {},
     "output_type": "execute_result"
    }
   ],
   "source": [
    "testing = pd.read_csv('test.csv', index_col='id')\n",
    "testing = testing[['f1', 'f3', 'f4', 'f5']]\n",
    "testing['target'] = best_ridge.predict(testing)\n",
    "testing"
   ]
  },
  {
   "cell_type": "code",
   "execution_count": 95,
   "id": "e8bc7d5a-9e3a-4a2d-b94f-7a3018f2502a",
   "metadata": {
    "tags": []
   },
   "outputs": [],
   "source": [
    "testing[['target']].to_csv('submission.csv')"
   ]
  },
  {
   "cell_type": "markdown",
   "id": "02966291-ac17-4699-9994-118ecfc254eb",
   "metadata": {},
   "source": [
    "## Ridge Reg with f3, f4, f5"
   ]
  },
  {
   "cell_type": "code",
   "execution_count": 32,
   "id": "b5b3e4ce-e196-4ae3-ad1d-8dbed1f537cc",
   "metadata": {
    "tags": []
   },
   "outputs": [],
   "source": [
    "X = X[['f3', 'f4', 'f5']]"
   ]
  },
  {
   "cell_type": "code",
   "execution_count": 37,
   "id": "5db75656-4dd1-4f56-b75a-288f87231337",
   "metadata": {
    "tags": []
   },
   "outputs": [],
   "source": [
    "X_train, X_test, y_train, y_test = train_test_split(X, y)"
   ]
  },
  {
   "cell_type": "code",
   "execution_count": 38,
   "id": "b58839ae-7806-4914-ac70-fa84bdb4282e",
   "metadata": {
    "tags": []
   },
   "outputs": [
    {
     "data": {
      "text/plain": [
       "{'poly_features__degree': 3, 'reg__alpha': 2}"
      ]
     },
     "execution_count": 38,
     "metadata": {},
     "output_type": "execute_result"
    }
   ],
   "source": [
    "# pipeline\n",
    "pipe = Pipeline(steps=[\n",
    "    ('scaling', StandardScaler()),\n",
    "    ('poly_features', PolynomialFeatures()),\n",
    "    ('reg', Ridge())])\n",
    "\n",
    "# grid\n",
    "params = {'poly_features__degree': [1, 2, 3, 4, 5],\n",
    "         'reg__alpha': [0.001, 0.01, 0.05, 0.1, 0.5, 1, 2, 3, 4, 5, 6, 7, 8, 9, 10]}\n",
    "grid = GridSearchCV(pipe,\n",
    "                    params,\n",
    "                    scoring='neg_mean_squared_error',\n",
    "                    cv = 10)\n",
    "grid.fit(X_train, y_train)\n",
    "\n",
    "best_ridge = grid.best_estimator_\n",
    "grid.best_params_"
   ]
  },
  {
   "cell_type": "code",
   "execution_count": 39,
   "id": "50c036de-3547-4166-9393-bba7651d538c",
   "metadata": {
    "tags": []
   },
   "outputs": [
    {
     "data": {
      "text/plain": [
       "2.9528424936523647"
      ]
     },
     "execution_count": 39,
     "metadata": {},
     "output_type": "execute_result"
    }
   ],
   "source": [
    "y_test_pred = best_ridge.predict(X_test)\n",
    "np.sqrt(mean_squared_error(y_test, y_test_pred))"
   ]
  },
  {
   "cell_type": "code",
   "execution_count": 40,
   "id": "72357d61-285c-4716-b690-2ee781519821",
   "metadata": {
    "tags": []
   },
   "outputs": [
    {
     "data": {
      "text/plain": [
       "1.9321143299121353"
      ]
     },
     "execution_count": 40,
     "metadata": {},
     "output_type": "execute_result"
    }
   ],
   "source": [
    "y_train_pred = best_ridge.predict(X_train)\n",
    "np.sqrt(mean_squared_error(y_train, y_train_pred))"
   ]
  },
  {
   "cell_type": "code",
   "execution_count": 41,
   "id": "f24de23d-0ae5-4c56-b684-333163f9428f",
   "metadata": {
    "tags": []
   },
   "outputs": [
    {
     "data": {
      "text/plain": [
       "array([[ 0.        ,  3.17874629,  1.15729085, -0.77440378, -1.70427584,\n",
       "        -0.13818864,  0.01593255, -0.03481982,  0.09780445, -0.12029859,\n",
       "         0.52247503,  0.04722708, -0.12344303,  0.04348462,  0.04817923,\n",
       "        -0.03827845,  1.10709289, -0.03836948, -0.06286722, -1.81392225]])"
      ]
     },
     "execution_count": 41,
     "metadata": {},
     "output_type": "execute_result"
    }
   ],
   "source": [
    "best_ridge['reg'].coef_"
   ]
  },
  {
   "cell_type": "code",
   "execution_count": null,
   "id": "648f88d3-a677-45a5-96b8-46fe808f373f",
   "metadata": {},
   "outputs": [],
   "source": []
  }
 ],
 "metadata": {
  "kernelspec": {
   "display_name": "Python 3 (ipykernel)",
   "language": "python",
   "name": "python3"
  },
  "language_info": {
   "codemirror_mode": {
    "name": "ipython",
    "version": 3
   },
   "file_extension": ".py",
   "mimetype": "text/x-python",
   "name": "python",
   "nbconvert_exporter": "python",
   "pygments_lexer": "ipython3",
   "version": "3.10.12"
  }
 },
 "nbformat": 4,
 "nbformat_minor": 5
}
